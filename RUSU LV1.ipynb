{
  "nbformat": 4,
  "nbformat_minor": 0,
  "metadata": {
    "colab": {
      "provenance": [],
      "gpuType": "T4"
    },
    "kernelspec": {
      "name": "python3",
      "display_name": "Python 3"
    },
    "language_info": {
      "name": "python"
    },
    "accelerator": "GPU"
  },
  "cells": [
    {
      "cell_type": "markdown",
      "source": [
        "# Što je Colab?\n",
        "\n",
        "Colab vam omogućava pisanje i pokretanje Python koda u pregledniku bez potrebe za instalacijom ičega. Također vam omogućava dijeljenje koda i besplatno korištenje GPU-a."
      ],
      "metadata": {
        "id": "IMSTY2WpnsfC"
      }
    },
    {
      "cell_type": "markdown",
      "source": [
        "Colab je nalik na Python Notebook te vam omogućava pisanje Python koda i Markdown odjeljaka s tekstom, slikama i ostalim.\n",
        "\n",
        "Ćelije se pokreću pomoću kombinacije **\"Ctrl/Shift + Enter\"**."
      ],
      "metadata": {
        "id": "1EcqZdKpoSgV"
      }
    },
    {
      "cell_type": "code",
      "execution_count": 1,
      "metadata": {
        "id": "2LDYJurWniYf",
        "colab": {
          "base_uri": "https://localhost:8080/"
        },
        "outputId": "c9163385-ab20-4564-f1e5-f2d07f91b531"
      },
      "outputs": [
        {
          "output_type": "stream",
          "name": "stdout",
          "text": [
            "4\n"
          ]
        }
      ],
      "source": [
        "f = 4\n",
        "print(f)"
      ]
    },
    {
      "cell_type": "markdown",
      "source": [
        "Varijable, klase, funkcije itd. definirane i pokrenute u nekoj čeliji se mogu koristiti u drugim čelijama."
      ],
      "metadata": {
        "id": "iw97g87epcsT"
      }
    },
    {
      "cell_type": "code",
      "source": [
        "g = f ** 2\n",
        "print(g)"
      ],
      "metadata": {
        "id": "kWNwo0x8pa-P",
        "colab": {
          "base_uri": "https://localhost:8080/"
        },
        "outputId": "0d9b0f99-3a2b-4692-e8ea-14d550f9ba1e"
      },
      "execution_count": 2,
      "outputs": [
        {
          "output_type": "stream",
          "name": "stdout",
          "text": [
            "16\n"
          ]
        }
      ]
    },
    {
      "cell_type": "markdown",
      "source": [
        "# PyTorch\n",
        "\n",
        "PyTorch je korisna biblioteka za rad s neuronskim mrežama. Rad u PyTorchu osnovan je na radu s tenzorima koji su struktura nalik na polja i matrice. Biblioteka se uključuje pomoću naredbe `import torch`.\n",
        "\n",
        "## Tenzori\n",
        "\n",
        "Tenzori se ponašaju nalik na `numpy` polja i često su funkcije identične onima koje se koriste na poljima. Bitna razlika je što se tenzori mogu koristiti na grafičkim karticama što znatno ubrzava mnoge matematičke operacije. Više o radu na GPU će biti prikazano u nastavku ovog LV-a."
      ],
      "metadata": {
        "id": "QAvKzdFuqyr3"
      }
    },
    {
      "cell_type": "code",
      "source": [
        "import torch\n",
        "import numpy as np\n",
        "from tqdm import tqdm"
      ],
      "metadata": {
        "id": "4vl8kkmxq0_r"
      },
      "execution_count": 3,
      "outputs": []
    },
    {
      "cell_type": "markdown",
      "source": [
        "### Kreiranje tenzora na razne načine"
      ],
      "metadata": {
        "id": "JFx4CGAfe8Qr"
      }
    },
    {
      "cell_type": "code",
      "source": [
        "data = [[2, 4], [4, 6]]\n",
        "\n",
        "# From a list\n",
        "x_data = torch.tensor(data)\n",
        "print('x_data\\n', x_data)\n",
        "\n",
        "# From a numpy array\n",
        "np_array = np.array(data)\n",
        "x_np = torch.from_numpy(np_array)\n",
        "print('x_np\\n', x_np)"
      ],
      "metadata": {
        "id": "3FY1TA9hV-7F",
        "colab": {
          "base_uri": "https://localhost:8080/"
        },
        "outputId": "a8c7f028-2f14-40a6-f900-02ecf8067b7c"
      },
      "execution_count": 4,
      "outputs": [
        {
          "output_type": "stream",
          "name": "stdout",
          "text": [
            "x_data\n",
            " tensor([[2, 4],\n",
            "        [4, 6]])\n",
            "x_np\n",
            " tensor([[2, 4],\n",
            "        [4, 6]])\n"
          ]
        }
      ]
    },
    {
      "cell_type": "code",
      "source": [
        "# You can also go back from a tensor to a numpy array\n",
        "np_arr = x_np.numpy()\n",
        "print('np_arr\\n', np_arr)"
      ],
      "metadata": {
        "id": "h4LvcSbYnXRG",
        "colab": {
          "base_uri": "https://localhost:8080/"
        },
        "outputId": "757abae2-062a-4b20-a184-09f30dce9c68"
      },
      "execution_count": 5,
      "outputs": [
        {
          "output_type": "stream",
          "name": "stdout",
          "text": [
            "np_arr\n",
            " [[2 4]\n",
            " [4 6]]\n"
          ]
        }
      ]
    },
    {
      "cell_type": "code",
      "source": [
        "# From another tensor\n",
        "x_ones = torch.ones_like(x_data)\n",
        "print(f\"Ones Tensor: \\n {x_ones} \\n\")\n",
        "\n",
        "x_rand = torch.rand_like(x_data, dtype=torch.float)\n",
        "print(f\"Random Tensor: \\n {x_rand} \\n\")"
      ],
      "metadata": {
        "id": "3SICX9V8d3kA",
        "colab": {
          "base_uri": "https://localhost:8080/"
        },
        "outputId": "d652b8d2-a162-4590-e4f5-ecd9659eb440"
      },
      "execution_count": 6,
      "outputs": [
        {
          "output_type": "stream",
          "name": "stdout",
          "text": [
            "Ones Tensor: \n",
            " tensor([[1, 1],\n",
            "        [1, 1]]) \n",
            "\n",
            "Random Tensor: \n",
            " tensor([[0.3310, 0.1872],\n",
            "        [0.6623, 0.2005]]) \n",
            "\n"
          ]
        }
      ]
    },
    {
      "cell_type": "code",
      "source": [
        "# With random or constant values\n",
        "shape = (2, 3,)\n",
        "rand_tensor = torch.rand(shape)\n",
        "ones_tensor = torch.ones(shape)\n",
        "zeros_tensor = torch.zeros(shape)\n",
        "\n",
        "print(f\"Random Tensor: \\n {rand_tensor} \\n\")\n",
        "print(f\"Ones Tensor: \\n {ones_tensor} \\n\")\n",
        "print(f\"Zeros Tensor: \\n {zeros_tensor}\")"
      ],
      "metadata": {
        "id": "4pEnY0nieyPg",
        "colab": {
          "base_uri": "https://localhost:8080/"
        },
        "outputId": "781eacf5-ff90-48a0-b4c7-74ed5615e082"
      },
      "execution_count": 7,
      "outputs": [
        {
          "output_type": "stream",
          "name": "stdout",
          "text": [
            "Random Tensor: \n",
            " tensor([[0.0092, 0.7402, 0.8720],\n",
            "        [0.9242, 0.9297, 0.8865]]) \n",
            "\n",
            "Ones Tensor: \n",
            " tensor([[1., 1., 1.],\n",
            "        [1., 1., 1.]]) \n",
            "\n",
            "Zeros Tensor: \n",
            " tensor([[0., 0., 0.],\n",
            "        [0., 0., 0.]])\n"
          ]
        }
      ]
    },
    {
      "cell_type": "markdown",
      "source": [
        "### Rad s tenzorima"
      ],
      "metadata": {
        "id": "UGBT_vmolVGM"
      }
    },
    {
      "cell_type": "code",
      "source": [
        "tensor = torch.rand(3, 4)\n",
        "\n",
        "print(f\"Shape of tensor: {tensor.shape}\")\n",
        "print(f\"Datatype of tensor: {tensor.dtype}\")\n",
        "print(f\"Device tensor is stored on: {tensor.device}\")"
      ],
      "metadata": {
        "id": "ifgaT-rNezL5",
        "colab": {
          "base_uri": "https://localhost:8080/"
        },
        "outputId": "71a9cca0-dca7-427d-d952-ac8f750c5574"
      },
      "execution_count": 8,
      "outputs": [
        {
          "output_type": "stream",
          "name": "stdout",
          "text": [
            "Shape of tensor: torch.Size([3, 4])\n",
            "Datatype of tensor: torch.float32\n",
            "Device tensor is stored on: cpu\n"
          ]
        }
      ]
    },
    {
      "cell_type": "code",
      "source": [
        "# Indexing and slicing like in numpy\n",
        "\n",
        "tensor = torch.ones(4, 4)\n",
        "tensor[:,1] = 0\n",
        "print(tensor)"
      ],
      "metadata": {
        "id": "AtIVnMxnmkZ0",
        "colab": {
          "base_uri": "https://localhost:8080/"
        },
        "outputId": "bdaabf39-d3af-41d9-e348-9c1012ba74ed"
      },
      "execution_count": 9,
      "outputs": [
        {
          "output_type": "stream",
          "name": "stdout",
          "text": [
            "tensor([[1., 0., 1., 1.],\n",
            "        [1., 0., 1., 1.],\n",
            "        [1., 0., 1., 1.],\n",
            "        [1., 0., 1., 1.]])\n"
          ]
        }
      ]
    },
    {
      "cell_type": "markdown",
      "source": [
        "Pogledajte razne druge operacije s tenzorima na https://pytorch.org/tutorials/beginner/blitz/tensor_tutorial.html."
      ],
      "metadata": {
        "id": "uejLL1l_nAOh"
      }
    },
    {
      "cell_type": "markdown",
      "source": [
        "# *Backpropagation* algoritam\n",
        "\n",
        "U kontekstu neuronskih mreža, funkcija gubitka (*loss function*) je matematička funkcija koja mjeri razliku između stvarnih vrijednosti (*ground truth*) i predviđenih vrijednosti koje generira neuronska mreža. Ova funkcija igra ključnu ulogu u postupku učenja neuronske mreže jer omogućuje procjenu toga koliko dobro neuronska mreža obavlja svoj zadatak.\n",
        "\n",
        "Cilj učenja je upravo minimmizirati ovu funkciju.\n",
        "\n",
        "Minimizacija ove funkcije je optimizacijski postupak gdje se najčešće koristi gradijentna metoda. Pri tome se parametri neuronske mreže (težine) prilagođavaju korištenjem gradijenta funkcije gubitka u odnosu na težine.\n",
        "\n",
        "Učinkovito računanje gradijenata u neuronskim mrežama postiže se backpropagation algoritmom. Algoritam izračunava gradijente funkcije gubitka u odnosu na težine mreže koristeći pravilo lanca derivacije (ulančanih derivacija).\n",
        "\n",
        "PyTorch nam omogućava automatsko dobivanje derivacija/gradijenata funkcija koje definiramo. Također možemo odrediti koji tenzori zahtjevaju gradijent, koji ne. Prema zadanim postavkama, tenzori ne zahtjevaju gradijent pri stvaranju."
      ],
      "metadata": {
        "id": "uJM62_RbvbwH"
      }
    },
    {
      "cell_type": "code",
      "source": [
        "x = torch.ones((3,))\n",
        "print(x.requires_grad)"
      ],
      "metadata": {
        "id": "gTmLXQ1OmtTC",
        "colab": {
          "base_uri": "https://localhost:8080/"
        },
        "outputId": "4d451b52-f08e-4b18-eb9d-8d1aa3405614"
      },
      "execution_count": 10,
      "outputs": [
        {
          "output_type": "stream",
          "name": "stdout",
          "text": [
            "False\n"
          ]
        }
      ]
    },
    {
      "cell_type": "markdown",
      "source": [
        "Ovo možemo promijeniti pozivom funkcije `requires_grad_()` ili zadavanjem argumenta `requires_grad=True` pri inicijalizaciji tenzora."
      ],
      "metadata": {
        "id": "yQD9tB24mIVj"
      }
    },
    {
      "cell_type": "code",
      "source": [
        "x.requires_grad_(True)\n",
        "print(x.requires_grad)"
      ],
      "metadata": {
        "id": "n4KfmpOlmcpM",
        "colab": {
          "base_uri": "https://localhost:8080/"
        },
        "outputId": "48865db0-2c7c-4764-a5e0-661adabe4491"
      },
      "execution_count": 11,
      "outputs": [
        {
          "output_type": "stream",
          "name": "stdout",
          "text": [
            "True\n"
          ]
        }
      ]
    },
    {
      "cell_type": "markdown",
      "source": [
        "Kako bismo se upoznali s gradijentima, uzmimo sljedeću funkciju za primjer:\n",
        "\n",
        "$$y = \\frac{1}{|x|}\\sum_i \\left[(x_i + 2)^2 + 4\\right]$$\n",
        "\n",
        "Zamislimo da su u $x$ naši parametri (ono što bi bile težine u neuronskoj mreži), a želimo optimizirati (maksimizirati ili minimizirati) izlaz $y$. Za ovo su nam potrebni gradijenti $\\partial y / \\partial \\mathbf{x}$. U neuronskim mrežama bismo imali težine $W$ koje bismo trebali naučiti kako bismo optimizirali nekakvu funkciju troška, koja bi naravno ovisila o izlazu iz mreže.\n",
        "\n",
        "Za ovaj primjer, uzmimo $\\mathbf{x}=[0,2,4]$ kao ulaz (parametre)."
      ],
      "metadata": {
        "id": "eHCy3pr7mqrS"
      }
    },
    {
      "cell_type": "code",
      "source": [
        "x = torch.tensor([0, 2, 4], dtype=torch.float32, requires_grad=True) # Only float tensors can have gradients\n",
        "print(\"X\", x)"
      ],
      "metadata": {
        "id": "-N1hkuUtmozN",
        "colab": {
          "base_uri": "https://localhost:8080/"
        },
        "outputId": "a80827db-3e2d-4397-92e2-65ccb6f5ae1c"
      },
      "execution_count": 12,
      "outputs": [
        {
          "output_type": "stream",
          "name": "stdout",
          "text": [
            "X tensor([0., 2., 4.], requires_grad=True)\n"
          ]
        }
      ]
    },
    {
      "cell_type": "markdown",
      "source": [
        "Izradimo graf za izračun izlaza ove funkcije. Ne moramo imati jednu operaciju po liniji, ali za lakše razumijevanje su operacije ovako razdvojene.\n"
      ],
      "metadata": {
        "id": "qUFXnzqfnmVs"
      }
    },
    {
      "cell_type": "code",
      "source": [
        "a = x + 2\n",
        "b = a ** 2\n",
        "c = b + 4\n",
        "y = c.mean()\n",
        "print(\"Y\", y)"
      ],
      "metadata": {
        "id": "ElhafuBOn4xl",
        "colab": {
          "base_uri": "https://localhost:8080/"
        },
        "outputId": "8a51acb1-e692-46e0-c9f7-f2d23c7f8ee6"
      },
      "execution_count": 13,
      "outputs": [
        {
          "output_type": "stream",
          "name": "stdout",
          "text": [
            "Y tensor(22.6667, grad_fn=<MeanBackward0>)\n"
          ]
        }
      ]
    },
    {
      "cell_type": "markdown",
      "source": [
        "Gornji graf možemo vizualizirati:\n",
        "\n",
        "![RUSU-lv1-scheme.png](data:image/png;base64,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)\n",
        "\n",
        "Strelice na shemi prikazuju ovisnost. Tako možemo vidjeti da $a$ ovisi o $x$ i konstanti $2$, $b$ ovisi o $a$ itd. Svaki čvor u grafu ima funkciju `grad_fn` za računanje gradijenta s obzirom na ulaz. Ovo se može vidjeti i kad se ispiše tenzor $y$. Pozivom funkcije `backward()` na posljednjem izlazu, vršimo *backpropagaciju* i računamo gradijent za svaki tenzor koji ima svojstvo `requires_grad=True`."
      ],
      "metadata": {
        "id": "hVzplgZgoSJl"
      }
    },
    {
      "cell_type": "code",
      "source": [
        "y.backward()"
      ],
      "metadata": {
        "id": "UdTU5B4-hVOv"
      },
      "execution_count": 14,
      "outputs": []
    },
    {
      "cell_type": "code",
      "source": [
        "print(x.grad)"
      ],
      "metadata": {
        "id": "BDhUJ6H3hxHM",
        "colab": {
          "base_uri": "https://localhost:8080/"
        },
        "outputId": "6d728f04-728c-4bf1-8552-98f437bbbded"
      },
      "execution_count": 15,
      "outputs": [
        {
          "output_type": "stream",
          "name": "stdout",
          "text": [
            "tensor([1.3333, 2.6667, 4.0000])\n"
          ]
        }
      ]
    },
    {
      "cell_type": "markdown",
      "source": [
        "### GPU (grafička kartica)\n",
        "\n",
        "GPU nam omogućava paralelizaciju velike količine jednostavnijih operacija što uvelike ubrzava rad neuronskih mreža. Iz tog razloga je vrlo bitna mogućnost korištenja GPU u PyTorchu.\n",
        "\n",
        "Google Colab omogućuje besplatno korištenje GPU u oblaku."
      ],
      "metadata": {
        "id": "uhcsjoMfKi5y"
      }
    },
    {
      "cell_type": "code",
      "source": [
        "print(f\"Is the GPU available? {torch.cuda.is_available()}\")"
      ],
      "metadata": {
        "id": "OFehbZrxKrey",
        "colab": {
          "base_uri": "https://localhost:8080/"
        },
        "outputId": "22871488-48cf-4aea-d3e5-02372dd16820"
      },
      "execution_count": 16,
      "outputs": [
        {
          "output_type": "stream",
          "name": "stdout",
          "text": [
            "Is the GPU available? True\n"
          ]
        }
      ]
    },
    {
      "cell_type": "markdown",
      "source": [
        "Ukoliko korištenje GPU nije omogućeno u Google Colabu, potrebno je to učiniti pritiskom na \"Change runtipe type\" u padajućem izborniku \"Runtime\". Ondje je potrebno odabrati prikladnu opciju. Važno je napomenuti da će ovo restartirati runtime te će trebati ponovo pokrenuti sve potrebne ćelije, primjerice pomoću CTRL + F8 za pokretanje svih prethodnih ćelija.\n",
        "\n",
        "Zadano ponašanje je da se tenzori pri stvaranju stavljaju na CPU. Tenzor se može postaviti na GPU pomoću naredbi `.to(...)` i `.cuda()`. U praksi se često definira objekt `device` koji može označavati GPU ako je omogućen ili CPU inače. Na taj način se može pisati isti kod neovisno o tome koristi li se GPU ili CPU."
      ],
      "metadata": {
        "id": "LLSn-gMcLRv-"
      }
    },
    {
      "cell_type": "code",
      "source": [
        "device = torch.device(\"cuda\") if torch.cuda.is_available() else torch.device(\"cpu\")\n",
        "print(\"Device\", device)"
      ],
      "metadata": {
        "id": "j7fMirYKQcus",
        "colab": {
          "base_uri": "https://localhost:8080/"
        },
        "outputId": "47e3dc72-47c5-42da-d93e-3c5b197d9b6a"
      },
      "execution_count": 17,
      "outputs": [
        {
          "output_type": "stream",
          "name": "stdout",
          "text": [
            "Device cuda\n"
          ]
        }
      ]
    },
    {
      "cell_type": "code",
      "source": [
        "x = torch.zeros(2, 4)\n",
        "x = x.to(device)\n",
        "print(\"X\", x)"
      ],
      "metadata": {
        "id": "DecXObzxQrbq",
        "colab": {
          "base_uri": "https://localhost:8080/"
        },
        "outputId": "65a64368-05bc-4a70-851a-bc7b13c30e24"
      },
      "execution_count": 18,
      "outputs": [
        {
          "output_type": "stream",
          "name": "stdout",
          "text": [
            "X tensor([[0., 0., 0., 0.],\n",
            "        [0., 0., 0., 0.]], device='cuda:0')\n"
          ]
        }
      ]
    },
    {
      "cell_type": "code",
      "source": [
        "import time\n",
        "x = torch.randn(4000, 4000)\n",
        "\n",
        "## TODO\n",
        "## Compare the runtime of matrix multiplication of x with itself on CPU and GPU\n",
        "## Note: For better comparison, it might be good to 'burn in' the GPU by\n",
        "## performing a matrix operation before timing the matrix multiplication\n",
        "## Note 2: Use torch.cuda.Event() (check the documentation) for timing when\n",
        "## performing operations on the GPU\n",
        "## Note 3: Use torch.cuda.synchronize() to wait for everything to finish\n",
        "## running on the GPU\n",
        "torch.cuda.synchronize()\n",
        "start=torch.cuda.Event(enable_timing=True)\n",
        "end=torch.cuda.Event(enable_timing=True)\n",
        "\n",
        "start.record()\n",
        "y=x*x\n",
        "end.record()\n",
        "torch.cuda.synchronize()\n",
        "print(start.elapsed_time(end))\n"
      ],
      "metadata": {
        "id": "QFZVD0dyQvLe",
        "colab": {
          "base_uri": "https://localhost:8080/"
        },
        "outputId": "53240ba0-7dd0-4f1c-cccd-fdd4d37878a7"
      },
      "execution_count": 54,
      "outputs": [
        {
          "output_type": "stream",
          "name": "stdout",
          "text": [
            "34.51472091674805\n"
          ]
        }
      ]
    },
    {
      "cell_type": "markdown",
      "source": [
        "Neke od operacija na GPU su implementirane na stohastičan način zbog učinkovitosti. Zbog ponovljivosti rezultata, ponekad je potrebno osigurati da su sve operacije deterministične na dolje prikazani način."
      ],
      "metadata": {
        "id": "rdwW_oRKSu-r"
      }
    },
    {
      "cell_type": "code",
      "source": [
        "torch.backends.cudnn.deterministic = True\n",
        "torch.backends.cudnn.benchmark = False"
      ],
      "metadata": {
        "id": "SdlPLKlRTLCa"
      },
      "execution_count": null,
      "outputs": []
    },
    {
      "cell_type": "markdown",
      "source": [
        "### Treniranje mreže\n",
        "\n",
        "U nastavku je dan primjer treniranja neuronske mreže za binarnu klasifikaciju."
      ],
      "metadata": {
        "id": "wR3FJaQ9UUhL"
      }
    },
    {
      "cell_type": "markdown",
      "source": [
        "#### Podatkovni skup\n",
        "\n",
        "U paketu `torch.utils.data` se nalaze funkcionalnosti za učitavanje podataka za treniranje i testiranje. Dvije klase iz ovog paketa su nam važne `data.Dataset` i `data.DataLoader`. Dataset klasa nam služi kao sučelje za pristupanje podacima, dok na DataLoader klasa omogućava efikasan rad s podacima u *batchevima*. Slijedi primjer kreiranja vlastitog podatkovnog skupa. Bitne su nam funkcije `__len__`, koja vraća duljinu podatkovnog skupa, i `__getitem__`, koja omogućava pristup elementima podatkovnog skupa."
      ],
      "metadata": {
        "id": "6w3EcNVEHWDi"
      }
    },
    {
      "cell_type": "code",
      "source": [
        "import math\n",
        "import torch.utils.data as data\n",
        "\n",
        "class ExampleDataset(data.Dataset):\n",
        "\n",
        "  def __init__(self, size):\n",
        "    \"\"\"\n",
        "    Inputs:\n",
        "        size - Number of data points we want to generate\n",
        "    \"\"\"\n",
        "    super().__init__()\n",
        "    self.size = size\n",
        "    self.generate_dataset()\n",
        "\n",
        "  def generate_data(self, r1, r2, n):\n",
        "    radii = r1 + torch.rand(n) * (r2-r1)\n",
        "    angles = torch.rand(n) * 2 * math.pi\n",
        "    x1 = radii * torch.cos(angles)\n",
        "    x2 = radii * torch.sin(angles)\n",
        "    return torch.stack([x1, x2], 1)\n",
        "\n",
        "  def generate_dataset(self):\n",
        "    class0_size = self.size // 2\n",
        "    class1_size = self.size - class0_size\n",
        "    data0 = self.generate_data(0, 0.4, class0_size)\n",
        "    data1 = self.generate_data(0.6, 1.0, class1_size)\n",
        "    label = torch.hstack([torch.zeros(class0_size), torch.ones(class1_size)])\n",
        "    data = torch.vstack([data0, data1])\n",
        "    indices = torch.randperm(data.shape[0])\n",
        "    data = data[indices]\n",
        "    label = label[indices]\n",
        "    self.data = data\n",
        "    self.label = label\n",
        "\n",
        "  def __len__(self):\n",
        "    # Number of data point we have. Alternatively self.data.shape[0], or self.label.shape[0]\n",
        "    return self.size\n",
        "\n",
        "  def __getitem__(self, idx):\n",
        "    # Return the idx-th data point of the dataset\n",
        "    # If we have multiple things to return (data point and label), we can return them as tuple\n",
        "    data_point = self.data[idx]\n",
        "    data_label = self.label[idx]\n",
        "    return data_point, data_label"
      ],
      "metadata": {
        "id": "Vy-GFK32UXq5"
      },
      "execution_count": 19,
      "outputs": []
    },
    {
      "cell_type": "markdown",
      "source": [
        "Jednostavno možemo napraviti primjer takvog podatkovnog skupa."
      ],
      "metadata": {
        "id": "53_LyrULHA8a"
      }
    },
    {
      "cell_type": "code",
      "source": [
        "dataset = ExampleDataset(1000)\n",
        "print(\"Size of dataset:\", len(dataset))\n",
        "print(\"Data point 0:\", dataset[0])"
      ],
      "metadata": {
        "id": "4l9V53kZG_7b",
        "colab": {
          "base_uri": "https://localhost:8080/"
        },
        "outputId": "9d615c39-ce2d-48f1-fbe6-12a47ca8baaf"
      },
      "execution_count": 20,
      "outputs": [
        {
          "output_type": "stream",
          "name": "stdout",
          "text": [
            "Size of dataset: 1000\n",
            "Data point 0: (tensor([ 0.3990, -0.5691]), tensor(1.))\n"
          ]
        }
      ]
    },
    {
      "cell_type": "markdown",
      "source": [
        "Možemo i vizualizirati dani podatkovni skup."
      ],
      "metadata": {
        "id": "yQ3AYIyuHLC9"
      }
    },
    {
      "cell_type": "code",
      "source": [
        "import matplotlib.pyplot as plt\n",
        "\n",
        "def visualize_samples(data, label):\n",
        "  if isinstance(data, torch.Tensor):\n",
        "    data = data.cpu().numpy()\n",
        "  if isinstance(label, torch.Tensor):\n",
        "    label = label.cpu().numpy()\n",
        "  data_0 = data[label == 0]\n",
        "  data_1 = data[label == 1]\n",
        "\n",
        "  plt.figure(figsize=(4,4))\n",
        "  plt.scatter(data_0[:,0], data_0[:,1], edgecolor=\"#444\", label=\"Class 0\")\n",
        "  plt.scatter(data_1[:,0], data_1[:,1], edgecolor=\"#444\", label=\"Class 1\")\n",
        "  plt.title(\"Dataset samples\")\n",
        "  plt.ylabel(r\"$x_2$\")\n",
        "  plt.xlabel(r\"$x_1$\")\n",
        "  plt.legend()"
      ],
      "metadata": {
        "id": "DswEpKbXCrGY"
      },
      "execution_count": 21,
      "outputs": []
    },
    {
      "cell_type": "code",
      "source": [
        "visualize_samples(dataset.data, dataset.label)\n",
        "plt.show()"
      ],
      "metadata": {
        "id": "Gy-ImDH3-ypD",
        "colab": {
          "base_uri": "https://localhost:8080/",
          "height": 411
        },
        "outputId": "718d0d50-9fdf-4a84-85d0-5e203258b0d6"
      },
      "execution_count": 22,
      "outputs": [
        {
          "output_type": "display_data",
          "data": {
            "text/plain": [
              "<Figure size 400x400 with 1 Axes>"
            ],
            "image/png": "[encoded data removed]"
          },
          "metadata": {}
        }
      ]
    },
    {
      "cell_type": "markdown",
      "source": [
        "#### Učitavanje podataka\n",
        "\n",
        "Za učitavanje podataka, koristit ćemo klasu `DataLoader` koja je prethodno spomenuta. Možemo podesiti učitavanje podataka pomoću sljedećih argumenata:\n",
        " - `batch_size`: Broj podataka u seriji\n",
        " - `shuffle`: Ako je `True`, raspored podataka je nasumičan.\n",
        " - `num_workers`: Broj subprocesa koji će se koristiti za učitavanje podataka. Može biti dobro povećati broj subprocesa za učitavanje u slučaju da učitavanje podataka dugo traje, primjerice u slučaju slika.\n",
        "\n",
        "Za više informacija o radu s podatkovnim skupovima, pogledajte službenu [dokumentaciju](https://pytorch.org/docs/stable/data.html).\n",
        "Napravit ćemo jednostavan *DataLoader* pomoću *Dataseta* koji smo prethodno definirali."
      ],
      "metadata": {
        "id": "PmFetKVZHeAV"
      }
    },
    {
      "cell_type": "code",
      "source": [
        "data_loader = data.DataLoader(dataset, batch_size=8, shuffle=True)"
      ],
      "metadata": {
        "id": "ew4ymYQ5KFYg"
      },
      "execution_count": 23,
      "outputs": []
    },
    {
      "cell_type": "code",
      "source": [
        "# next(iter(...)) catches the first batch of the data loader\n",
        "# If shuffle is True, this will return a different batch every time we run this cell\n",
        "# For iterating over the whole dataset, we can simple use \"for batch in data_loader: ...\"\n",
        "data_inputs, data_labels = next(iter(data_loader))\n",
        "\n",
        "# The shape of the outputs are [batch_size, d_1,...,d_N] where d_1,...,d_N are the\n",
        "# dimensions of the data point returned from the dataset class\n",
        "print(\"Data inputs\", data_inputs.shape, \"\\n\", data_inputs)\n",
        "print(\"Data labels\", data_labels.shape, \"\\n\", data_labels)"
      ],
      "metadata": {
        "id": "ZjaW-g7wKItK",
        "colab": {
          "base_uri": "https://localhost:8080/"
        },
        "outputId": "12d610ca-8950-4695-b84b-ba7216d5fcb9"
      },
      "execution_count": 24,
      "outputs": [
        {
          "output_type": "stream",
          "name": "stdout",
          "text": [
            "Data inputs torch.Size([8, 2]) \n",
            " tensor([[ 0.0699, -0.0132],\n",
            "        [-0.4610, -0.4308],\n",
            "        [ 0.0589, -0.1925],\n",
            "        [ 0.2542, -0.2239],\n",
            "        [-0.8313, -0.3396],\n",
            "        [ 0.0474,  0.6620],\n",
            "        [-0.1534,  0.3195],\n",
            "        [-0.9186, -0.3405]])\n",
            "Data labels torch.Size([8]) \n",
            " tensor([0., 1., 0., 0., 1., 1., 0., 1.])\n"
          ]
        }
      ]
    },
    {
      "cell_type": "markdown",
      "source": [
        "#### Mreža\n",
        "\n",
        "Paket `torch.nn` sadrži brojne korisne klase poput slojeva, aktivacijskih funkcija, funkcija gubitka itd. Više o tome možete pronaći [ovdje](https://pytorch.org/docs/stable/nn.html). Također ćemo koristiti i funkcije iz `torch.nn.functional`."
      ],
      "metadata": {
        "id": "JYOHkJunKUFF"
      }
    },
    {
      "cell_type": "code",
      "source": [
        "import torch.nn as nn\n",
        "import torch.nn.functional as F"
      ],
      "metadata": {
        "id": "O3pLOFu-KW1S"
      },
      "execution_count": 25,
      "outputs": []
    },
    {
      "cell_type": "markdown",
      "source": [
        "U PyTorchu su neuronske mreže sagrađene od modula. Moduli se mogu upotrebljavati unutar mreže i svaka mreža je također modul. U `forward` funkciji se definira glavna funkcionalnost mreže i to je funkcija koja se poziva kad se pozove objekt klase modula. U ovoj funkciji definiramo ponašanje mreže, pozivamo druge module itd. Slijedi standardna struktura modula."
      ],
      "metadata": {
        "id": "0laUscHRg4pL"
      }
    },
    {
      "cell_type": "code",
      "source": [
        "class MyModule(nn.Module):\n",
        "\n",
        "    def __init__(self):\n",
        "        super().__init__()\n",
        "        # Some init for my module\n",
        "\n",
        "    def forward(self, x):\n",
        "        # Function for performing the calculation of the module.\n",
        "        pass"
      ],
      "metadata": {
        "id": "dib7FkOlhGEq"
      },
      "execution_count": 26,
      "outputs": []
    },
    {
      "cell_type": "markdown",
      "source": [
        "Za potrebe treniranja klasifikatora na gore definiranom podatkovnom skupu, izgradit ćemo unaprijednu, potpuno povezanu mrežu. Mreža će se sastojati od ulaznog sloja, jednog skrivenog sloja s ReLU aktivacijskom funkcijom te izlaznog sloja.\n",
        "\n",
        "![NN.png](data:image/png;base64,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)"
      ],
      "metadata": {
        "id": "UlRLeSBPh981"
      }
    },
    {
      "cell_type": "code",
      "source": [
        "class Classifier(nn.Module):\n",
        "\n",
        "    def __init__(self, num_inputs, num_hidden, num_outputs):\n",
        "        super().__init__()\n",
        "        # Initialize the modules we need to build the network\n",
        "        self.linear1 = nn.Linear(num_inputs, num_hidden)\n",
        "        self.act_fn = nn.ReLU()\n",
        "        self.linear2 = nn.Linear(num_hidden, num_outputs)\n",
        "\n",
        "    def forward(self, x):\n",
        "        # Perform the calculation of the model to determine the prediction\n",
        "        x = self.linear1(x)\n",
        "        x = self.act_fn(x)\n",
        "        x = self.linear2(x)\n",
        "        return x"
      ],
      "metadata": {
        "id": "_p1AqXXlh-GP"
      },
      "execution_count": 27,
      "outputs": []
    },
    {
      "cell_type": "markdown",
      "source": [
        "Ova klasa mora imati dvije funkcije: konstruktor i `forward()`. U konstruktoru definiramo sve slojeve i aktivacijske funkcije koje će se koristiti. U funkciji `forward()` definiramo strukturu mreže, odnosno što se događa s ulaznim podacima u svakom prolasku kroz mrežu."
      ],
      "metadata": {
        "id": "pWLIO_xief6S"
      }
    },
    {
      "cell_type": "markdown",
      "source": [
        "Lako možemo izgraditi model prethodno definirane mreže te ispisati neke od značajki mreže. Samim ispisvanjem objekta, dobit ćemo listu submodula. Možemo koristiti `parameters()` i `named_parameters()` za ispis pojedinih parametara mreže."
      ],
      "metadata": {
        "id": "NDT5R_9gi8I2"
      }
    },
    {
      "cell_type": "code",
      "source": [
        "model = Classifier(num_inputs=2, num_hidden=4, num_outputs=1)\n",
        "# Printing a module shows all its submodules\n",
        "print(model)\n",
        "\n",
        "print('Parameters:')\n",
        "for name, param in model.named_parameters():\n",
        "    print(f\"Parameter {name}, shape {param.shape}\")"
      ],
      "metadata": {
        "id": "ifMew7Tmi8SU",
        "colab": {
          "base_uri": "https://localhost:8080/"
        },
        "outputId": "9918094f-ca9b-4279-e4ee-29dfc4e72228"
      },
      "execution_count": 28,
      "outputs": [
        {
          "output_type": "stream",
          "name": "stdout",
          "text": [
            "Classifier(\n",
            "  (linear1): Linear(in_features=2, out_features=4, bias=True)\n",
            "  (act_fn): ReLU()\n",
            "  (linear2): Linear(in_features=4, out_features=1, bias=True)\n",
            ")\n",
            "Parameters:\n",
            "Parameter linear1.weight, shape torch.Size([4, 2])\n",
            "Parameter linear1.bias, shape torch.Size([4])\n",
            "Parameter linear2.weight, shape torch.Size([1, 4])\n",
            "Parameter linear2.bias, shape torch.Size([1])\n"
          ]
        }
      ]
    },
    {
      "cell_type": "markdown",
      "source": [
        "#### Treniranje mreže\n",
        "\n",
        "Treniranje se odvija u nekoliko koraka:\n",
        " 1. Uzmi *batch* iz *DataLoadera*,\n",
        " 2. Izračunaj izlaze iz modela za taj *batch*,\n",
        " 3. Izračunaj gubitak na temelju dobivenih i stvarnih vrijednosti,\n",
        " 4. *Backpropagacija*: izračunaj gradijent za svaki parametar na temelju gubitka,\n",
        " 5. Ažuriraj parametre modela u smjeru gradijenta.\n",
        "\n",
        "\n",
        " Pošto smo prethodno obradili korake 1, 2, i 4, još trebamo proći kroz korake 3 i 5."
      ],
      "metadata": {
        "id": "HvAULsITkvUe"
      }
    },
    {
      "cell_type": "markdown",
      "source": [
        "Mnoge funkcije gubitka su već implementirane u PyTorchu te se iste mogu pogledati [ovdje](https://pytorch.org/docs/stable/nn.html#loss-functions). Za ovaj primjer binarne klasifikacije, koristit ćemo binarnu unakrsnu entropiju (engl. *Binary cross entropy (BCE)*). Standardni BCE očekuje vrijednosti između 0 i 1, a naši izlazi ne moraju biti u tom rasponu jer nismo stavili aktivacijsku funkciju na kraj mreže. Iz ovog razloga ćemo koristiti `nn.BCEWithLogitsLoss` koja kombinira sigmoid aktivacijsku funkciju i BCE funkciju gubitka."
      ],
      "metadata": {
        "id": "1J8xxqDhz0t0"
      }
    },
    {
      "cell_type": "code",
      "source": [
        "loss_module = nn.BCEWithLogitsLoss()"
      ],
      "metadata": {
        "id": "PtEQV1l_kvbe"
      },
      "execution_count": 29,
      "outputs": []
    },
    {
      "cell_type": "markdown",
      "source": [
        "Za ažuriranje parametara, koristit ćemo optimizatore iz paketa `torch.optim`. Za ovaj primjer ćemo koristiti najjednostavniji optimizator, metodu gradijentnog spusta (engl. *Stochastic Gradient Descent (SGD)*), ali postoje mnogi optimizatori o kojima možete pročitati [ovdje](https://pytorch.org/docs/stable/optim.html). Metoda gradijentnog spusta koristi jedan parametar, stopu učenja (engl. *learning rate*) te se svaki parametar mreže ažurira na sljedeći način:\n",
        "\n",
        "$$w_i \\leftarrow w_i - \\alpha*\\frac{\\partial J}{\\partial w_i},$$\n",
        "\n",
        "gdje je $w_i$ jedan parametar mreže, $\\alpha$ stopa učenja, a $J$ funckija gubitka. Na taj način se polako minimizira funkcija gubitka.\n",
        "\n",
        "Optimizator ima dvije bitne funckije `step()` i `zero_grad()`. *step* funkcija ažurira parametre na temelju gradijenata dok funkcija *zero_grad* postavlja sve gradijente na 0. Ovo je bitno učiniti pri svakom koraku treniranja mreže jer bi se u suprotnom gradijenti zbrajali s gradijentima iz prethodnog koraka."
      ],
      "metadata": {
        "id": "SU9r7yG702pw"
      }
    },
    {
      "cell_type": "code",
      "source": [
        "# Input to the optimizer are the parameters of the model: model.parameters()\n",
        "optimizer = torch.optim.SGD(model.parameters(), lr=0.1)"
      ],
      "metadata": {
        "id": "2Pzphfe-0231"
      },
      "execution_count": 30,
      "outputs": []
    },
    {
      "cell_type": "markdown",
      "source": [
        "#### Treniranje\n",
        "\n",
        "Sad imamo sve potrebne elemente koje možemo pospajati kako bismo trenirali mrežu. Prije svega nam treba podatkovni skup. Pri kreaciji *dataloadera*, potrebno je definirati veličinu serije (`batch_size`) i sve druge parametre."
      ],
      "metadata": {
        "id": "rnD2wM2H2wc7"
      }
    },
    {
      "cell_type": "code",
      "source": [
        "train_dataset = ExampleDataset(size=2500)\n",
        "train_data_loader = data.DataLoader(train_dataset, batch_size=128, shuffle=True)"
      ],
      "metadata": {
        "id": "G3kLNVUC2wje"
      },
      "execution_count": 31,
      "outputs": []
    },
    {
      "cell_type": "code",
      "source": [
        "# Push model to device. Has to be only done once\n",
        "model.to(device)"
      ],
      "metadata": {
        "id": "x_jDFkDo3Sdz",
        "colab": {
          "base_uri": "https://localhost:8080/"
        },
        "outputId": "7ec6d053-0f4f-42ec-ed64-4fb80fbda44e"
      },
      "execution_count": 32,
      "outputs": [
        {
          "output_type": "execute_result",
          "data": {
            "text/plain": [
              "Classifier(\n",
              "  (linear1): Linear(in_features=2, out_features=4, bias=True)\n",
              "  (act_fn): ReLU()\n",
              "  (linear2): Linear(in_features=4, out_features=1, bias=True)\n",
              ")"
            ]
          },
          "metadata": {},
          "execution_count": 32
        }
      ]
    },
    {
      "cell_type": "markdown",
      "source": [
        "Napisat ćemo jednostavnu funkciju za treniranje koja će implementirati svih 5 gore navedenih koraka. Bitno je pozvati funkciju `train()` na modelu prilikom treniranja. Isto tako, potrebno je pozvati funkciju `eval()` na modelu prilikom evaluacije istog. Ovo se radi jer neki moduli drugačije rade prilikom treniranja i evaluacije (npr. BatchNorm i Dropout)."
      ],
      "metadata": {
        "id": "3w6aRALL3a9y"
      }
    },
    {
      "cell_type": "code",
      "source": [
        "def eval_model(model, data_loader):\n",
        "    model.eval() # Set model to eval mode\n",
        "    true_preds, num_preds = 0., 0.\n",
        "\n",
        "    with torch.no_grad(): # Deactivate gradients for the following code\n",
        "        for data_inputs, data_labels in data_loader:\n",
        "\n",
        "            # Determine prediction of model on dev set\n",
        "            data_inputs, data_labels = data_inputs.to(device), data_labels.to(device)\n",
        "            preds = model(data_inputs)\n",
        "            preds = preds.squeeze(dim=1)\n",
        "            preds = torch.sigmoid(preds) # Sigmoid to map predictions between 0 and 1\n",
        "            pred_labels = (preds >= 0.5).long() # Binarize predictions to 0 and 1\n",
        "\n",
        "            # Keep records of predictions for the accuracy metric (true_preds=TP+TN, num_preds=TP+TN+FP+FN)\n",
        "            true_preds += (pred_labels == data_labels).sum()\n",
        "            num_preds += data_labels.shape[0]\n",
        "\n",
        "    acc = true_preds / num_preds\n",
        "    print(f\"Accuracy of the model: {100.0*acc:4.2f}%\")"
      ],
      "metadata": {
        "id": "cDSJw4lS7E7X"
      },
      "execution_count": 45,
      "outputs": []
    },
    {
      "cell_type": "code",
      "source": [
        "validation_dataset = ExampleDataset(size=500)\n",
        "# drop_last -> Don't drop the last batch although it is smaller than 128\n",
        "validation_data_loader = data.DataLoader(validation_dataset, batch_size=128, shuffle=False, drop_last=False)"
      ],
      "metadata": {
        "id": "ufta0Hrb771V"
      },
      "execution_count": 46,
      "outputs": []
    },
    {
      "cell_type": "code",
      "source": [
        "def train_model(model, optimizer, data_loader, loss_module, validation_data_loader, num_epochs=100):\n",
        "    # Set model to train mode\n",
        "    model.train()\n",
        "\n",
        "    # Training loop\n",
        "    for epoch in tqdm(range(num_epochs)):\n",
        "        for data_inputs, data_labels in data_loader:\n",
        "\n",
        "            ## Step 1: Move input data to device (only strictly necessary if we use GPU)\n",
        "            data_inputs = data_inputs.to(device)\n",
        "            data_labels = data_labels.to(device)\n",
        "\n",
        "            ## Step 2: Run the model on the input data\n",
        "            preds = model(data_inputs)\n",
        "            preds = preds.squeeze(dim=1) # Output is [Batch size, 1], but we want [Batch size]\n",
        "\n",
        "            ## Step 3: Calculate the loss\n",
        "            loss = loss_module(preds, data_labels.float())\n",
        "\n",
        "            ## Step 4: Perform backpropagation\n",
        "            # Before calculating the gradients, we need to ensure that they are all zero.\n",
        "            # The gradients would not be overwritten, but actually added to the existing ones.\n",
        "            optimizer.zero_grad()\n",
        "            # Perform backpropagation\n",
        "            loss.backward()\n",
        "\n",
        "            ## Step 5: Update the parameters\n",
        "            optimizer.step()\n",
        "        ## TODO\n",
        "        ## Add evaluation on validation dataset every eval_epochs (add this as the argument of the function) epochs and print it out\n",
        "        eval_model(model, validation_data_loader)\n",
        "        model.train()"
      ],
      "metadata": {
        "id": "Qx9dCGsF3bDs"
      },
      "execution_count": 48,
      "outputs": []
    },
    {
      "cell_type": "code",
      "source": [
        "train_model(model, optimizer, train_data_loader, loss_module, validation_data_loader, 200)"
      ],
      "metadata": {
        "id": "UpYjhbFQ4Omb",
        "colab": {
          "base_uri": "https://localhost:8080/"
        },
        "outputId": "a187993a-aa42-410e-aaf3-153092106179"
      },
      "execution_count": 49,
      "outputs": [
        {
          "output_type": "stream",
          "name": "stderr",
          "text": [
            "  2%|▏         | 4/200 [00:00<00:12, 16.32it/s]"
          ]
        },
        {
          "output_type": "stream",
          "name": "stdout",
          "text": [
            "Accuracy of the model: 100.00%\n",
            "Accuracy of the model: 100.00%\n",
            "Accuracy of the model: 100.00%\n",
            "Accuracy of the model: 100.00%\n"
          ]
        },
        {
          "output_type": "stream",
          "name": "stderr",
          "text": [
            "  4%|▍         | 8/200 [00:00<00:11, 16.55it/s]"
          ]
        },
        {
          "output_type": "stream",
          "name": "stdout",
          "text": [
            "Accuracy of the model: 100.00%\n",
            "Accuracy of the model: 100.00%\n",
            "Accuracy of the model: 100.00%\n",
            "Accuracy of the model: 100.00%\n"
          ]
        },
        {
          "output_type": "stream",
          "name": "stderr",
          "text": [
            "  6%|▌         | 12/200 [00:00<00:11, 16.70it/s]"
          ]
        },
        {
          "output_type": "stream",
          "name": "stdout",
          "text": [
            "Accuracy of the model: 100.00%\n",
            "Accuracy of the model: 100.00%\n",
            "Accuracy of the model: 100.00%\n",
            "Accuracy of the model: 100.00%\n"
          ]
        },
        {
          "output_type": "stream",
          "name": "stderr",
          "text": [
            "  8%|▊         | 16/200 [00:00<00:10, 16.87it/s]"
          ]
        },
        {
          "output_type": "stream",
          "name": "stdout",
          "text": [
            "Accuracy of the model: 100.00%\n",
            "Accuracy of the model: 100.00%\n",
            "Accuracy of the model: 100.00%\n",
            "Accuracy of the model: 100.00%\n"
          ]
        },
        {
          "output_type": "stream",
          "name": "stderr",
          "text": [
            "\r 10%|▉         | 19/200 [00:01<00:09, 19.14it/s]"
          ]
        },
        {
          "output_type": "stream",
          "name": "stdout",
          "text": [
            "Accuracy of the model: 100.00%\n",
            "Accuracy of the model: 100.00%\n",
            "Accuracy of the model: 100.00%\n",
            "Accuracy of the model: 100.00%\n",
            "Accuracy of the model: 100.00%\n"
          ]
        },
        {
          "output_type": "stream",
          "name": "stderr",
          "text": [
            " 12%|█▎        | 25/200 [00:01<00:08, 21.60it/s]"
          ]
        },
        {
          "output_type": "stream",
          "name": "stdout",
          "text": [
            "Accuracy of the model: 100.00%\n",
            "Accuracy of the model: 100.00%\n",
            "Accuracy of the model: 100.00%\n",
            "Accuracy of the model: 100.00%\n",
            "Accuracy of the model: 100.00%\n"
          ]
        },
        {
          "output_type": "stream",
          "name": "stderr",
          "text": [
            " 16%|█▌        | 31/200 [00:01<00:07, 22.90it/s]"
          ]
        },
        {
          "output_type": "stream",
          "name": "stdout",
          "text": [
            "Accuracy of the model: 100.00%\n",
            "Accuracy of the model: 100.00%\n",
            "Accuracy of the model: 100.00%\n",
            "Accuracy of the model: 100.00%\n",
            "Accuracy of the model: 100.00%\n"
          ]
        },
        {
          "output_type": "stream",
          "name": "stderr",
          "text": [
            "\r 17%|█▋        | 34/200 [00:01<00:07, 23.46it/s]"
          ]
        },
        {
          "output_type": "stream",
          "name": "stdout",
          "text": [
            "Accuracy of the model: 100.00%\n",
            "Accuracy of the model: 100.00%\n",
            "Accuracy of the model: 100.00%\n",
            "Accuracy of the model: 100.00%\n",
            "Accuracy of the model: 100.00%\n"
          ]
        },
        {
          "output_type": "stream",
          "name": "stderr",
          "text": [
            " 20%|██        | 40/200 [00:01<00:06, 22.96it/s]"
          ]
        },
        {
          "output_type": "stream",
          "name": "stdout",
          "text": [
            "Accuracy of the model: 100.00%\n",
            "Accuracy of the model: 100.00%\n",
            "Accuracy of the model: 100.00%\n",
            "Accuracy of the model: 100.00%\n",
            "Accuracy of the model: 100.00%\n"
          ]
        },
        {
          "output_type": "stream",
          "name": "stderr",
          "text": [
            " 23%|██▎       | 46/200 [00:02<00:06, 23.52it/s]"
          ]
        },
        {
          "output_type": "stream",
          "name": "stdout",
          "text": [
            "Accuracy of the model: 100.00%\n",
            "Accuracy of the model: 100.00%\n",
            "Accuracy of the model: 100.00%\n",
            "Accuracy of the model: 100.00%\n",
            "Accuracy of the model: 100.00%\n"
          ]
        },
        {
          "output_type": "stream",
          "name": "stderr",
          "text": [
            "\r 24%|██▍       | 49/200 [00:02<00:06, 23.58it/s]"
          ]
        },
        {
          "output_type": "stream",
          "name": "stdout",
          "text": [
            "Accuracy of the model: 100.00%\n",
            "Accuracy of the model: 100.00%\n",
            "Accuracy of the model: 100.00%\n",
            "Accuracy of the model: 100.00%\n",
            "Accuracy of the model: 100.00%\n"
          ]
        },
        {
          "output_type": "stream",
          "name": "stderr",
          "text": [
            " 28%|██▊       | 55/200 [00:02<00:06, 23.71it/s]"
          ]
        },
        {
          "output_type": "stream",
          "name": "stdout",
          "text": [
            "Accuracy of the model: 100.00%\n",
            "Accuracy of the model: 100.00%\n",
            "Accuracy of the model: 100.00%\n",
            "Accuracy of the model: 100.00%\n",
            "Accuracy of the model: 100.00%\n"
          ]
        },
        {
          "output_type": "stream",
          "name": "stderr",
          "text": [
            " 30%|███       | 61/200 [00:02<00:05, 23.66it/s]"
          ]
        },
        {
          "output_type": "stream",
          "name": "stdout",
          "text": [
            "Accuracy of the model: 100.00%\n",
            "Accuracy of the model: 100.00%\n",
            "Accuracy of the model: 100.00%\n",
            "Accuracy of the model: 100.00%\n",
            "Accuracy of the model: 100.00%\n"
          ]
        },
        {
          "output_type": "stream",
          "name": "stderr",
          "text": [
            " 34%|███▎      | 67/200 [00:03<00:05, 24.12it/s]"
          ]
        },
        {
          "output_type": "stream",
          "name": "stdout",
          "text": [
            "Accuracy of the model: 100.00%\n",
            "Accuracy of the model: 100.00%\n",
            "Accuracy of the model: 100.00%\n",
            "Accuracy of the model: 100.00%\n",
            "Accuracy of the model: 100.00%\n",
            "Accuracy of the model: 100.00%\n"
          ]
        },
        {
          "output_type": "stream",
          "name": "stderr",
          "text": [
            "\r 35%|███▌      | 70/200 [00:03<00:05, 23.78it/s]"
          ]
        },
        {
          "output_type": "stream",
          "name": "stdout",
          "text": [
            "Accuracy of the model: 100.00%\n",
            "Accuracy of the model: 100.00%\n",
            "Accuracy of the model: 100.00%\n",
            "Accuracy of the model: 100.00%\n",
            "Accuracy of the model: 100.00%\n"
          ]
        },
        {
          "output_type": "stream",
          "name": "stderr",
          "text": [
            " 38%|███▊      | 76/200 [00:03<00:05, 24.02it/s]"
          ]
        },
        {
          "output_type": "stream",
          "name": "stdout",
          "text": [
            "Accuracy of the model: 100.00%\n",
            "Accuracy of the model: 100.00%\n",
            "Accuracy of the model: 100.00%\n",
            "Accuracy of the model: 100.00%\n",
            "Accuracy of the model: 100.00%\n",
            "Accuracy of the model: 100.00%\n"
          ]
        },
        {
          "output_type": "stream",
          "name": "stderr",
          "text": [
            " 41%|████      | 82/200 [00:03<00:04, 24.48it/s]"
          ]
        },
        {
          "output_type": "stream",
          "name": "stdout",
          "text": [
            "Accuracy of the model: 100.00%\n",
            "Accuracy of the model: 100.00%\n",
            "Accuracy of the model: 100.00%\n",
            "Accuracy of the model: 100.00%\n",
            "Accuracy of the model: 100.00%\n"
          ]
        },
        {
          "output_type": "stream",
          "name": "stderr",
          "text": [
            " 44%|████▍     | 88/200 [00:03<00:04, 23.77it/s]"
          ]
        },
        {
          "output_type": "stream",
          "name": "stdout",
          "text": [
            "Accuracy of the model: 100.00%\n",
            "Accuracy of the model: 100.00%\n",
            "Accuracy of the model: 100.00%\n",
            "Accuracy of the model: 100.00%\n",
            "Accuracy of the model: 100.00%\n"
          ]
        },
        {
          "output_type": "stream",
          "name": "stderr",
          "text": [
            "\r 46%|████▌     | 91/200 [00:04<00:04, 23.73it/s]"
          ]
        },
        {
          "output_type": "stream",
          "name": "stdout",
          "text": [
            "Accuracy of the model: 100.00%\n",
            "Accuracy of the model: 100.00%\n",
            "Accuracy of the model: 100.00%\n",
            "Accuracy of the model: 100.00%\n",
            "Accuracy of the model: 100.00%\n"
          ]
        },
        {
          "output_type": "stream",
          "name": "stderr",
          "text": [
            " 48%|████▊     | 97/200 [00:04<00:04, 24.01it/s]"
          ]
        },
        {
          "output_type": "stream",
          "name": "stdout",
          "text": [
            "Accuracy of the model: 100.00%\n",
            "Accuracy of the model: 100.00%\n",
            "Accuracy of the model: 100.00%\n",
            "Accuracy of the model: 100.00%\n",
            "Accuracy of the model: 100.00%\n"
          ]
        },
        {
          "output_type": "stream",
          "name": "stderr",
          "text": [
            " 52%|█████▏    | 103/200 [00:04<00:04, 24.03it/s]"
          ]
        },
        {
          "output_type": "stream",
          "name": "stdout",
          "text": [
            "Accuracy of the model: 100.00%\n",
            "Accuracy of the model: 100.00%\n",
            "Accuracy of the model: 100.00%\n",
            "Accuracy of the model: 100.00%\n",
            "Accuracy of the model: 100.00%\n"
          ]
        },
        {
          "output_type": "stream",
          "name": "stderr",
          "text": [
            "\r 53%|█████▎    | 106/200 [00:04<00:03, 24.21it/s]"
          ]
        },
        {
          "output_type": "stream",
          "name": "stdout",
          "text": [
            "Accuracy of the model: 100.00%\n",
            "Accuracy of the model: 100.00%\n",
            "Accuracy of the model: 100.00%\n",
            "Accuracy of the model: 100.00%\n",
            "Accuracy of the model: 100.00%\n"
          ]
        },
        {
          "output_type": "stream",
          "name": "stderr",
          "text": [
            " 56%|█████▌    | 112/200 [00:04<00:03, 24.18it/s]"
          ]
        },
        {
          "output_type": "stream",
          "name": "stdout",
          "text": [
            "Accuracy of the model: 100.00%\n",
            "Accuracy of the model: 100.00%\n",
            "Accuracy of the model: 100.00%\n",
            "Accuracy of the model: 100.00%\n",
            "Accuracy of the model: 100.00%\n"
          ]
        },
        {
          "output_type": "stream",
          "name": "stderr",
          "text": [
            " 59%|█████▉    | 118/200 [00:05<00:03, 24.18it/s]"
          ]
        },
        {
          "output_type": "stream",
          "name": "stdout",
          "text": [
            "Accuracy of the model: 100.00%\n",
            "Accuracy of the model: 100.00%\n",
            "Accuracy of the model: 100.00%\n",
            "Accuracy of the model: 100.00%\n",
            "Accuracy of the model: 100.00%\n"
          ]
        },
        {
          "output_type": "stream",
          "name": "stderr",
          "text": [
            "\r 60%|██████    | 121/200 [00:05<00:03, 24.00it/s]"
          ]
        },
        {
          "output_type": "stream",
          "name": "stdout",
          "text": [
            "Accuracy of the model: 100.00%\n",
            "Accuracy of the model: 100.00%\n",
            "Accuracy of the model: 100.00%\n",
            "Accuracy of the model: 100.00%\n",
            "Accuracy of the model: 100.00%\n",
            "Accuracy of the model: 100.00%\n"
          ]
        },
        {
          "output_type": "stream",
          "name": "stderr",
          "text": [
            " 64%|██████▎   | 127/200 [00:05<00:03, 24.18it/s]"
          ]
        },
        {
          "output_type": "stream",
          "name": "stdout",
          "text": [
            "Accuracy of the model: 100.00%\n",
            "Accuracy of the model: 100.00%\n",
            "Accuracy of the model: 100.00%\n",
            "Accuracy of the model: 100.00%\n",
            "Accuracy of the model: 100.00%\n"
          ]
        },
        {
          "output_type": "stream",
          "name": "stderr",
          "text": [
            " 66%|██████▋   | 133/200 [00:05<00:02, 23.29it/s]"
          ]
        },
        {
          "output_type": "stream",
          "name": "stdout",
          "text": [
            "Accuracy of the model: 100.00%\n",
            "Accuracy of the model: 100.00%\n",
            "Accuracy of the model: 100.00%\n",
            "Accuracy of the model: 100.00%\n",
            "Accuracy of the model: 100.00%\n"
          ]
        },
        {
          "output_type": "stream",
          "name": "stderr",
          "text": [
            " 70%|██████▉   | 139/200 [00:06<00:02, 23.70it/s]"
          ]
        },
        {
          "output_type": "stream",
          "name": "stdout",
          "text": [
            "Accuracy of the model: 100.00%\n",
            "Accuracy of the model: 100.00%\n",
            "Accuracy of the model: 100.00%\n",
            "Accuracy of the model: 100.00%\n",
            "Accuracy of the model: 100.00%\n"
          ]
        },
        {
          "output_type": "stream",
          "name": "stderr",
          "text": [
            "\r 71%|███████   | 142/200 [00:06<00:02, 23.46it/s]"
          ]
        },
        {
          "output_type": "stream",
          "name": "stdout",
          "text": [
            "Accuracy of the model: 100.00%\n",
            "Accuracy of the model: 100.00%\n",
            "Accuracy of the model: 100.00%\n",
            "Accuracy of the model: 100.00%\n",
            "Accuracy of the model: 100.00%\n"
          ]
        },
        {
          "output_type": "stream",
          "name": "stderr",
          "text": [
            " 74%|███████▍  | 148/200 [00:06<00:02, 23.36it/s]"
          ]
        },
        {
          "output_type": "stream",
          "name": "stdout",
          "text": [
            "Accuracy of the model: 100.00%\n",
            "Accuracy of the model: 100.00%\n",
            "Accuracy of the model: 100.00%\n",
            "Accuracy of the model: 100.00%\n",
            "Accuracy of the model: 100.00%\n"
          ]
        },
        {
          "output_type": "stream",
          "name": "stderr",
          "text": [
            " 77%|███████▋  | 154/200 [00:06<00:01, 23.84it/s]"
          ]
        },
        {
          "output_type": "stream",
          "name": "stdout",
          "text": [
            "Accuracy of the model: 100.00%\n",
            "Accuracy of the model: 100.00%\n",
            "Accuracy of the model: 100.00%\n",
            "Accuracy of the model: 100.00%\n",
            "Accuracy of the model: 100.00%\n"
          ]
        },
        {
          "output_type": "stream",
          "name": "stderr",
          "text": [
            "\r 78%|███████▊  | 157/200 [00:06<00:01, 23.54it/s]"
          ]
        },
        {
          "output_type": "stream",
          "name": "stdout",
          "text": [
            "Accuracy of the model: 100.00%\n",
            "Accuracy of the model: 100.00%\n",
            "Accuracy of the model: 100.00%\n",
            "Accuracy of the model: 100.00%\n",
            "Accuracy of the model: 100.00%\n"
          ]
        },
        {
          "output_type": "stream",
          "name": "stderr",
          "text": [
            " 82%|████████▏ | 163/200 [00:07<00:01, 24.26it/s]"
          ]
        },
        {
          "output_type": "stream",
          "name": "stdout",
          "text": [
            "Accuracy of the model: 100.00%\n",
            "Accuracy of the model: 100.00%\n",
            "Accuracy of the model: 100.00%\n",
            "Accuracy of the model: 100.00%\n",
            "Accuracy of the model: 100.00%\n"
          ]
        },
        {
          "output_type": "stream",
          "name": "stderr",
          "text": [
            " 84%|████████▍ | 169/200 [00:07<00:01, 23.99it/s]"
          ]
        },
        {
          "output_type": "stream",
          "name": "stdout",
          "text": [
            "Accuracy of the model: 100.00%\n",
            "Accuracy of the model: 100.00%\n",
            "Accuracy of the model: 100.00%\n",
            "Accuracy of the model: 100.00%\n",
            "Accuracy of the model: 100.00%\n"
          ]
        },
        {
          "output_type": "stream",
          "name": "stderr",
          "text": [
            "\r 86%|████████▌ | 172/200 [00:07<00:01, 23.64it/s]"
          ]
        },
        {
          "output_type": "stream",
          "name": "stdout",
          "text": [
            "Accuracy of the model: 100.00%\n",
            "Accuracy of the model: 100.00%\n",
            "Accuracy of the model: 100.00%\n",
            "Accuracy of the model: 100.00%\n",
            "Accuracy of the model: 100.00%\n"
          ]
        },
        {
          "output_type": "stream",
          "name": "stderr",
          "text": [
            " 89%|████████▉ | 178/200 [00:07<00:00, 23.90it/s]"
          ]
        },
        {
          "output_type": "stream",
          "name": "stdout",
          "text": [
            "Accuracy of the model: 100.00%\n",
            "Accuracy of the model: 100.00%\n",
            "Accuracy of the model: 100.00%\n",
            "Accuracy of the model: 100.00%\n",
            "Accuracy of the model: 100.00%\n"
          ]
        },
        {
          "output_type": "stream",
          "name": "stderr",
          "text": [
            " 92%|█████████▏| 184/200 [00:08<00:00, 23.91it/s]"
          ]
        },
        {
          "output_type": "stream",
          "name": "stdout",
          "text": [
            "Accuracy of the model: 100.00%\n",
            "Accuracy of the model: 100.00%\n",
            "Accuracy of the model: 100.00%\n",
            "Accuracy of the model: 100.00%\n",
            "Accuracy of the model: 100.00%\n"
          ]
        },
        {
          "output_type": "stream",
          "name": "stderr",
          "text": [
            "\r 94%|█████████▎| 187/200 [00:08<00:00, 23.79it/s]"
          ]
        },
        {
          "output_type": "stream",
          "name": "stdout",
          "text": [
            "Accuracy of the model: 100.00%\n",
            "Accuracy of the model: 100.00%\n",
            "Accuracy of the model: 100.00%\n",
            "Accuracy of the model: 100.00%\n",
            "Accuracy of the model: 100.00%\n"
          ]
        },
        {
          "output_type": "stream",
          "name": "stderr",
          "text": [
            " 96%|█████████▋| 193/200 [00:08<00:00, 23.57it/s]"
          ]
        },
        {
          "output_type": "stream",
          "name": "stdout",
          "text": [
            "Accuracy of the model: 100.00%\n",
            "Accuracy of the model: 100.00%\n",
            "Accuracy of the model: 100.00%\n",
            "Accuracy of the model: 100.00%\n",
            "Accuracy of the model: 100.00%\n"
          ]
        },
        {
          "output_type": "stream",
          "name": "stderr",
          "text": [
            "100%|█████████▉| 199/200 [00:08<00:00, 23.69it/s]"
          ]
        },
        {
          "output_type": "stream",
          "name": "stdout",
          "text": [
            "Accuracy of the model: 100.00%\n",
            "Accuracy of the model: 100.00%\n",
            "Accuracy of the model: 100.00%\n",
            "Accuracy of the model: 100.00%\n",
            "Accuracy of the model: 100.00%\n"
          ]
        },
        {
          "output_type": "stream",
          "name": "stderr",
          "text": [
            "\r100%|██████████| 200/200 [00:08<00:00, 23.00it/s]"
          ]
        },
        {
          "output_type": "stream",
          "name": "stdout",
          "text": [
            "Accuracy of the model: 100.00%\n"
          ]
        },
        {
          "output_type": "stream",
          "name": "stderr",
          "text": [
            "\n"
          ]
        }
      ]
    },
    {
      "cell_type": "markdown",
      "source": [
        "#### Spremanje modela\n",
        "\n",
        "Parametrima modela se može pristupiti pomoću funkcije `state_dict()` te se ti parametri mogu spremiti pomoću funkcije `torch.save()`."
      ],
      "metadata": {
        "id": "OYgxEYxR5dYU"
      }
    },
    {
      "cell_type": "code",
      "source": [
        "state_dict = model.state_dict()\n",
        "print(state_dict)\n",
        "# torch.save(object, filename). For the filename, any extension can be used\n",
        "torch.save(state_dict, \"our_model.pt\")"
      ],
      "metadata": {
        "id": "Kz7FimIt5rs4",
        "colab": {
          "base_uri": "https://localhost:8080/"
        },
        "outputId": "ec211f88-9758-4030-b960-80053917b712"
      },
      "execution_count": 50,
      "outputs": [
        {
          "output_type": "stream",
          "name": "stdout",
          "text": [
            "OrderedDict([('linear1.weight', tensor([[-2.3558,  4.3954],\n",
            "        [-2.6611, -4.0747],\n",
            "        [-0.1602,  0.0057],\n",
            "        [ 4.9666, -0.0859]], device='cuda:0')), ('linear1.bias', tensor([-0.5974, -0.4589, -0.6736, -0.5280], device='cuda:0')), ('linear2.weight', tensor([[ 4.9831,  4.8310, -0.1367,  4.9229]], device='cuda:0')), ('linear2.bias', tensor([-7.7026], device='cuda:0'))])\n"
          ]
        }
      ]
    },
    {
      "cell_type": "markdown",
      "source": [
        "Isto tako možemo učitati te parametre pomoću funkcije `torch.load()` te ih prepisati preko trenutnih parametara modela pomoću funkcije `load_state_dict()`. Više o spremanju i učitavanju modela možete pročitati [ovdje](https://pytorch.org/tutorials/beginner/saving_loading_models.html)."
      ],
      "metadata": {
        "id": "GM5LgYlv5y9j"
      }
    },
    {
      "cell_type": "code",
      "source": [
        "# Load state dict from the disk (make sure it is the same name as above)\n",
        "state_dict = torch.load(\"our_model.pt\")\n",
        "\n",
        "# Create a new model and load the state\n",
        "new_model = Classifier(num_inputs=2, num_hidden=4, num_outputs=1)\n",
        "new_model.load_state_dict(state_dict)\n",
        "\n",
        "# Verify that the parameters are the same\n",
        "print(\"Original model\\n\", model.state_dict())\n",
        "print(\"\\nLoaded model\\n\", new_model.state_dict())"
      ],
      "metadata": {
        "id": "g4nxXfiO5zH5",
        "colab": {
          "base_uri": "https://localhost:8080/"
        },
        "outputId": "b5d98cf0-0c15-487e-e4bd-f608cb27cacf"
      },
      "execution_count": 51,
      "outputs": [
        {
          "output_type": "stream",
          "name": "stdout",
          "text": [
            "Original model\n",
            " OrderedDict([('linear1.weight', tensor([[-2.3558,  4.3954],\n",
            "        [-2.6611, -4.0747],\n",
            "        [-0.1602,  0.0057],\n",
            "        [ 4.9666, -0.0859]], device='cuda:0')), ('linear1.bias', tensor([-0.5974, -0.4589, -0.6736, -0.5280], device='cuda:0')), ('linear2.weight', tensor([[ 4.9831,  4.8310, -0.1367,  4.9229]], device='cuda:0')), ('linear2.bias', tensor([-7.7026], device='cuda:0'))])\n",
            "\n",
            "Loaded model\n",
            " OrderedDict([('linear1.weight', tensor([[-2.3558,  4.3954],\n",
            "        [-2.6611, -4.0747],\n",
            "        [-0.1602,  0.0057],\n",
            "        [ 4.9666, -0.0859]])), ('linear1.bias', tensor([-0.5974, -0.4589, -0.6736, -0.5280])), ('linear2.weight', tensor([[ 4.9831,  4.8310, -0.1367,  4.9229]])), ('linear2.bias', tensor([-7.7026]))])\n"
          ]
        }
      ]
    },
    {
      "cell_type": "markdown",
      "source": [
        "#### Evaluacija modela\n",
        "\n",
        "Nakon što smo istrenirali mrežu, možemo ju testirati na našem testnom skupu. Zato što radimo na generiranim podacima, možemo samo generirati nove podatke za potrebe testiranja."
      ],
      "metadata": {
        "id": "51KAoHmk6rfZ"
      }
    },
    {
      "cell_type": "code",
      "source": [
        "test_dataset = ExampleDataset(size=500)\n",
        "# drop_last -> Don't drop the last batch although it is smaller than 128\n",
        "test_data_loader = data.DataLoader(test_dataset, batch_size=128, shuffle=False, drop_last=False)"
      ],
      "metadata": {
        "id": "DLfoLwGw6rmP"
      },
      "execution_count": 37,
      "outputs": []
    },
    {
      "cell_type": "markdown",
      "source": [
        "Za testiranje ćemo koristiti mjeru točnosti:\n",
        "$$acc = \\frac{\\#\\text{correct predictions}}{\\#\\text{all predictions}} = \\frac{TP+TN}{TP+TN+FP+FN}$$\n",
        "\n",
        "Za potrebe evaluacije, ne trebamo računati gradijente pa možemo koristiti naredbu `with torch.no_grad(): ...` kako bismo ubrzali rad i koristili manje resursa.  "
      ],
      "metadata": {
        "id": "4yWSZsTj7E2n"
      }
    },
    {
      "cell_type": "code",
      "source": [
        "eval_model(model, test_data_loader)"
      ],
      "metadata": {
        "id": "dp319hzY7iB_",
        "colab": {
          "base_uri": "https://localhost:8080/"
        },
        "outputId": "964fb61f-6e66-4c00-f297-06ceb3196a85"
      },
      "execution_count": 39,
      "outputs": [
        {
          "output_type": "stream",
          "name": "stdout",
          "text": [
            "Accuracy of the model: 100.00%\n"
          ]
        }
      ]
    },
    {
      "cell_type": "markdown",
      "source": [
        "#### Vizualizacija granice klasifikacije"
      ],
      "metadata": {
        "id": "BYkikhYx72Fw"
      }
    },
    {
      "cell_type": "code",
      "source": [
        "from matplotlib.colors import to_rgba\n",
        "\n",
        "@torch.no_grad() # Decorator, same effect as \"with torch.no_grad(): ...\" over the whole function.\n",
        "def visualize_classification(model, data, label):\n",
        "    if isinstance(data, torch.Tensor):\n",
        "        data = data.cpu().numpy()\n",
        "    if isinstance(label, torch.Tensor):\n",
        "        label = label.cpu().numpy()\n",
        "    data_0 = data[label == 0]\n",
        "    data_1 = data[label == 1]\n",
        "\n",
        "    fig = plt.figure(figsize=(4,4), dpi=200)\n",
        "    plt.scatter(data_0[:,0], data_0[:,1], edgecolor=\"#333\", label=\"Class 0\")\n",
        "    plt.scatter(data_1[:,0], data_1[:,1], edgecolor=\"#333\", label=\"Class 1\")\n",
        "    plt.title(\"Dataset samples\")\n",
        "    plt.ylabel(r\"$x_2$\")\n",
        "    plt.xlabel(r\"$x_1$\")\n",
        "    plt.legend()\n",
        "\n",
        "    model.to(device)\n",
        "    c0 = torch.Tensor(to_rgba(\"C0\")).to(device)\n",
        "    c1 = torch.Tensor(to_rgba(\"C1\")).to(device)\n",
        "    x1 = torch.arange(-2, 2, step=0.01, device=device)\n",
        "    x2 = torch.arange(-2, 2, step=0.01, device=device)\n",
        "    xx1, xx2 = torch.meshgrid(x1, x2, indexing='ij')  # Meshgrid function as in numpy\n",
        "    model_inputs = torch.stack([xx1, xx2], dim=-1)\n",
        "    preds = model(model_inputs)\n",
        "    preds = torch.sigmoid(preds)\n",
        "    output_image = (1 - preds) * c0[None,None] + preds * c1[None,None]  # Specifying \"None\" in a dimension creates a new one\n",
        "    output_image = output_image.cpu().numpy()  # Convert to numpy array. This only works for tensors on CPU, hence first push to CPU\n",
        "    plt.imshow(output_image, origin='lower', extent=(-2, 2, -2, 2))\n",
        "    plt.grid(False)\n",
        "    return fig"
      ],
      "metadata": {
        "id": "6-g9cC8Y71mR"
      },
      "execution_count": 40,
      "outputs": []
    },
    {
      "cell_type": "code",
      "source": [
        "_ = visualize_classification(model, dataset.data, dataset.label)\n",
        "plt.show()"
      ],
      "metadata": {
        "id": "IuGo6YXQ_HAA",
        "colab": {
          "base_uri": "https://localhost:8080/",
          "height": 802
        },
        "outputId": "2ec1f896-4052-4e34-cbab-73ac37ca44c0"
      },
      "execution_count": 41,
      "outputs": [
        {
          "output_type": "display_data",
          "data": {
            "text/plain": [
              "<Figure size 800x800 with 1 Axes>"
            ],
            "image/png": "[encoded data removed]"
          },
          "metadata": {}
        }
      ]
    },
    {
      "cell_type": "markdown",
      "source": [
        "# Zadaci\n",
        "\n",
        "Riješite TODO-ove u gornjim ćelijama zatim riješite zadatak."
      ],
      "metadata": {
        "id": "Q50SrHIlk7Np"
      }
    },
    {
      "cell_type": "markdown",
      "source": [
        "## Zadatak\n",
        "\n",
        "Izgradite, istrenirajte i istestirajte neuronsku mrežu za predikciju podataka iz dolje definiranog podatkovnog skupa. U pitanju je XOR funkcija koja prima dvije binarne vrijednosti i vraća 1 ako su $x_1$ i $x_2$ jednaki, a 0 ako su različiti. Također su dodana nasumična odstupanja od vrijednosti.\n",
        "\n",
        "Isprobajte različite aktivacijske funkcije, broj skrivenih slojeva, broj neurona u skrivenim slojevima itd."
      ],
      "metadata": {
        "id": "ybChnTisk9gH"
      }
    },
    {
      "cell_type": "code",
      "source": [
        "class TaskDataset(data.Dataset):\n",
        "\n",
        "  def __init__(self, size, std=0.1):\n",
        "    \"\"\"\n",
        "    Inputs:\n",
        "        size - Number of data points we want to generate\n",
        "    \"\"\"\n",
        "    super().__init__()\n",
        "    self.size = size\n",
        "    self.std = std\n",
        "    self.generate_dataset()\n",
        "\n",
        "  def generate_dataset(self):\n",
        "    data = torch.randint(low=0, high=2, size=(self.size, 2), dtype=torch.float32)\n",
        "    label = (data.sum(dim=1) == 1).to(torch.long)\n",
        "    data += self.std * torch.randn(data.shape)\n",
        "\n",
        "    self.data = data\n",
        "    self.label = label\n",
        "\n",
        "  def __len__(self):\n",
        "    return self.size\n",
        "\n",
        "  def __getitem__(self, idx):\n",
        "    data_point = self.data[idx]\n",
        "    data_label = self.label[idx]\n",
        "    return data_point, data_label"
      ],
      "metadata": {
        "id": "4NN9nQuWlJ6p"
      },
      "execution_count": null,
      "outputs": []
    },
    {
      "cell_type": "code",
      "source": [
        "def visualize_data(data, label):\n",
        "  if isinstance(data, torch.Tensor):\n",
        "    data = data.cpu().numpy()\n",
        "  if isinstance(label, torch.Tensor):\n",
        "    label = label.cpu().numpy()\n",
        "\n",
        "  data_0 = data[label == 0]\n",
        "  data_1 = data[label == 1]\n",
        "\n",
        "  plt.figure(figsize=(4,4))\n",
        "  plt.scatter(data_0[:,0], data_0[:,1], edgecolor=\"#333\", label=\"Class 0\")\n",
        "  plt.scatter(data_1[:,0], data_1[:,1], edgecolor=\"#333\", label=\"Class 1\")\n",
        "  plt.title(\"Dataset samples\")\n",
        "  plt.ylabel(r\"$x_2$\")\n",
        "  plt.xlabel(r\"$x_1$\")\n",
        "  plt.legend()"
      ],
      "metadata": {
        "id": "HarcjtsM3-mo"
      },
      "execution_count": null,
      "outputs": []
    },
    {
      "cell_type": "code",
      "source": [
        "## TODO\n",
        "## Create the training and validation datasets and their dataloader"
      ],
      "metadata": {
        "id": "kQSNmpmK4fjC"
      },
      "execution_count": null,
      "outputs": []
    },
    {
      "cell_type": "code",
      "source": [
        "## TODO\n",
        "## Visualize the training data"
      ],
      "metadata": {
        "id": "ewuCHpStXeos"
      },
      "execution_count": null,
      "outputs": []
    },
    {
      "cell_type": "code",
      "source": [
        "## TODO\n",
        "## Define your network\n",
        "class TaskNetwork(nn.Module):\n",
        "\n",
        "    def __init__(self, num_inputs, num_hidden, num_outputs):\n",
        "        super().__init__()\n",
        "        # Initialize the modules we need to build the network\n",
        "\n",
        "    def forward(self, x):\n",
        "        # Perform the calculation of the model to determine the prediction\n",
        "        return x"
      ],
      "metadata": {
        "id": "4Ttzv88SXiDK"
      },
      "execution_count": null,
      "outputs": []
    },
    {
      "cell_type": "code",
      "source": [
        "## TODO\n",
        "## Create the model and push it to the device"
      ],
      "metadata": {
        "id": "RE_XN_DiXwtR"
      },
      "execution_count": null,
      "outputs": []
    },
    {
      "cell_type": "code",
      "source": [
        "## TODO\n",
        "## Define the loss function and the optimizer\n",
        "## Note: Find a proper loss function for the regression problem"
      ],
      "metadata": {
        "id": "J024cU3dXx2n"
      },
      "execution_count": null,
      "outputs": []
    },
    {
      "cell_type": "code",
      "source": [
        "## TODO\n",
        "## Create your functions for training and evaluation"
      ],
      "metadata": {
        "id": "XytSPI7jYHHA"
      },
      "execution_count": null,
      "outputs": []
    },
    {
      "cell_type": "code",
      "source": [
        "## TODO\n",
        "## Train the model (use the validation dataset while training)"
      ],
      "metadata": {
        "id": "WNc7zwDYYKva"
      },
      "execution_count": null,
      "outputs": []
    },
    {
      "cell_type": "code",
      "source": [
        "## TODO\n",
        "## Test your model"
      ],
      "metadata": {
        "id": "S6CxmTZXYL0a"
      },
      "execution_count": null,
      "outputs": []
    },
    {
      "cell_type": "code",
      "source": [],
      "metadata": {
        "id": "HXYVAW_tHDON"
      },
      "execution_count": null,
      "outputs": []
    }
  ]
}